{
 "cells": [
  {
   "cell_type": "markdown",
   "metadata": {},
   "source": [
    "#SN Refsdal reduction and extraction\n",
    "\n",
    "In this notebook I will do the scripting for reducing and extracting SN Refsdal. Additional notes and output will be in the corresponding Evernote.\n"
   ]
  },
  {
   "cell_type": "code",
   "execution_count": 1,
   "metadata": {
    "collapsed": true
   },
   "outputs": [],
   "source": [
    "# Setup plotting environment\n",
    "%matplotlib inline\n",
    "import matplotlib.pyplot as plt\n",
    "# use seaborn for nice default plot settings\n",
    "import seaborn as sns; sns.set_style('ticks')"
   ]
  },
  {
   "cell_type": "code",
   "execution_count": 2,
   "metadata": {
    "collapsed": true
   },
   "outputs": [],
   "source": [
    "# Importing manupulation packages\n",
    "from astropy.io import fits\n",
    "import numpy as np\n",
    "import glob"
   ]
  },
  {
   "cell_type": "markdown",
   "metadata": {},
   "source": [
    "In this code-block we will import the spectra in dictionaries, so that we can treat them individually through loops. The UVB and VIS arm contains 4 spectra and the NIR, two. This required some additional flow control statements which clutter the code a bit. We print the path to the input spectra.\n"
   ]
  },
  {
   "cell_type": "code",
   "execution_count": 18,
   "metadata": {
    "collapsed": false
   },
   "outputs": [
    {
     "name": "stdout",
     "output_type": "stream",
     "text": [
      "/Users/jselsing/Work/X-Shooter/Frontier-Fields/SN_Refsdal/NOD_quick/reflex_end_products/2015-05-21T16:06:42/XSHOO.2015-05-16T00:09:16.846_tpl/Refsdal_S1S2_1_SCI_SLIT_MERGE2D_NIR.fits\n",
      "/Users/jselsing/Work/X-Shooter/Frontier-Fields/SN_Refsdal/NOD_quick/reflex_end_products/2015-05-21T16:06:42/XSHOO.2015-05-16T00:52:35.694_tpl/Refsdal_S1S2_1_SCI_SLIT_MERGE2D_NIR.fits\n"
     ]
    }
   ],
   "source": [
    "#TODO mothodize this to make the code cleaner\n",
    "arm = 'NIR'\n",
    "binning = '50'\n",
    "#nirmode = 'Stare'\n",
    "nirmode = 'Nod'\n",
    "\n",
    "if arm == 'VIS' or arm == 'UVB' or (arm == 'NIR' and nirmode == 'Stare'):\n",
    "    if not arm == 'NIR':\n",
    "        files = glob.glob('/Users/jselsing/Work/X-Shooter/Frontier-Fields/SN_Refsdal/STARE_reduction/'+arm+'/*/*/*/*FLUX_MERGE2D_*')\n",
    "    elif arm == 'NIR':\n",
    "        files = glob.glob('/Users/jselsing/Work/X-Shooter/Frontier-Fields/SN_Refsdal/STARE_reduction/'+arm+'/*/*/*/*MERGE2D_*')\n",
    "elif arm == 'NIR' and nirmode == 'Nod':\n",
    "    files = glob.glob('/Users/jselsing/Work/X-Shooter/Frontier-Fields/SN_Refsdal/NOD_quick/*/*/*/*2D_NIR*')\n",
    "    #resp = glob.glob('/Users/jselsing/Work/X-Shooter/Frontier-Fields/SN_Refsdal/NOD_quick/*/*/*/*2D_NIR*')\n",
    "    resp = fits.open('/Users/jselsing/github/SN_Refsdal_Reduction/M.XSHOOTER.2014-04-15T14:16:03.860.fits')\n",
    "    resp = resp[1].data.field('RESPONSE')\n",
    "    resp = np.tile(resp , (85, 1))\n",
    "\n",
    "    \n",
    "if arm == 'VIS' or arm == 'UVB' or (arm == 'NIR' and nirmode == 'Stare'):\n",
    "    nam = ['1', '2', '3' , '4']\n",
    "elif arm == 'NIR' and nirmode == 'Nod':\n",
    "    nam = ['1', '2']\n",
    "    \n",
    "    \n",
    "obs = {}\n",
    "\n",
    "\n",
    "for i, n in enumerate(nam):\n",
    "    print files[i]\n",
    "    obs[n] = fits.open(str(files[i]))\n",
    "    \n",
    "\n",
    "\n",
    "#fitsfile = fits.open(str(files))\n",
    "\n",
    "dats = {}\n",
    "for n in nam:\n",
    "    if arm == 'NIR':\n",
    "        dats[n] = obs[n][0].data * resp * ( 2.12 / obs[n][0].header['EXPTIME'])\n",
    "        continue\n",
    "    dats[n] = obs[n][0].data\n",
    "        \n",
    "errs = {}\n",
    "for n in nam:\n",
    "    if arm == 'NIR':\n",
    "        errs[n] = obs[n][1].data * resp * ( 2.12 / obs[n][0].header['EXPTIME'])\n",
    "        continue\n",
    "    errs[n] = obs[n][1].data * resp\n",
    "    \n",
    "bpmaps = {}\n",
    "for n in nam:\n",
    "    bpmaps[n] = obs[n][2].data\n",
    "    \n",
    "heads = {}\n",
    "for n in nam:\n",
    "    heads[n] = obs[n][0].header\n",
    "\n",
    "shps = {}\n",
    "for n in nam:\n",
    "    shps[n] = np.shape(dats[n])\n",
    "\n",
    "xs = {}\n",
    "for n in nam:\n",
    "    xs[n] = np.arange(shps[n][1])\n",
    "    \n",
    "ys = {}\n",
    "for n in nam:\n",
    "    ys[n] = np.arange(shps[n][0])\n",
    "    \n",
    "\n",
    "    "
   ]
  },
  {
   "cell_type": "markdown",
   "metadata": {},
   "source": [
    "In this section we will estimate the sky for the UVB and VIS arm. This is done by masking the regions containing signal and for the rest calculate a sigma-clipped mean along the spatial direction, which is then subtracted for each pixel along the entire wavlength array."
   ]
  },
  {
   "cell_type": "code",
   "execution_count": 4,
   "metadata": {
    "collapsed": false
   },
   "outputs": [],
   "source": [
    "#Estimate sky\n",
    "\n",
    "\n",
    "from astropy.stats import sigma_clip\n",
    "\n",
    "skydats = {}\n",
    "\n",
    "if arm == 'UVB':\n",
    "    centers = [8, 53, 28,73]\n",
    "elif arm == 'VIS':\n",
    "    centers = [8, 53, 28, 73]\n",
    "elif arm == 'NIR':\n",
    "    centers = [8, 44, 26, 62]\n",
    "\n",
    "\n",
    "for i, n in enumerate(nam):\n",
    "    edge_mask = np.logical_or( (ys[n] < 5),(ys[n] > max(ys[n]) -5))\n",
    "\n",
    "    center = centers[i]\n",
    "    width = 5\n",
    "\n",
    "    pos1 = int(2.5 / heads[n]['CD2_2'])\n",
    "    pos2 = int(4.3 / heads[n]['CD2_2'])\n",
    "\n",
    "    wsn = 5\n",
    "\n",
    "    trace_mask = np.logical_and((ys[n] > center - width),(ys[n] < center + width))\n",
    "\n",
    "    pos1_mask = np.logical_and((ys[n] > center - pos1 - wsn),(ys[n] < center - pos1 + wsn))\n",
    "    pos2_mask = np.logical_and((ys[n] > center - pos2 - wsn),(ys[n] < center - pos2 + wsn))\n",
    "\n",
    "\n",
    "    mask = np.logical_or(np.logical_or(np.logical_or(trace_mask, edge_mask), pos1_mask), pos2_mask)\n",
    "\n",
    "\n",
    "    full_mask = np.tile(mask , (len(xs[n]), 1)).T\n",
    "\n",
    "    bpmask = (bpmaps[n] != 0)\n",
    "\n",
    "    tot_mask = np.logical_or(full_mask, bpmask)\n",
    "\n",
    "    dataarr = np.ma.array(dats[n], mask=tot_mask)\n",
    "\n",
    "    sky_spectrum_clip = sigma_clip(dataarr, sig = 2,  axis=0, iters=None, copy = True, cenfunc=np.ma.median, varfunc=np.ma.var)\n",
    "\n",
    "    sky_spectrum = np.ma.mean(sky_spectrum_clip, axis=0)\n",
    "\n",
    "    sky_dat = np.zeros(np.shape(dats[n]))\n",
    "    for k in np.arange(len(sky_dat[:,0])):\n",
    "        sky_dat[k, :] = sky_spectrum\n",
    "    skydats[n] = sky_dat\n",
    "\n",
    "    \n",
    "skysubs = {}\n",
    "\n",
    "#for n in nam:\n",
    "#    skysubs[n] = dats[n] - skydats[n]\n",
    "\n",
    "if arm == 'VIS' or arm == 'UVB' or (arm == 'NIR' and nirmode == 'Stare'):\n",
    "    for n in nam:\n",
    "        skysubs[n] = dats[n] - skydats[n]\n",
    "        \n",
    "elif arm == 'NIR' and nirmode == 'Nod':\n",
    "    for n in nam:\n",
    "        skysubs[n] = dats[n]"
   ]
  },
  {
   "cell_type": "code",
   "execution_count": 5,
   "metadata": {
    "collapsed": false
   },
   "outputs": [],
   "source": [
    "def weighted_avg_and_std(values, sigma, axis=0):\n",
    "    \n",
    "    norm = abs(np.ma.mean(values))\n",
    "    #print norm\n",
    "    values = np.ma.array(values) / norm\n",
    "    sigma = np.ma.array(sigma) / norm\n",
    "\n",
    "\n",
    "    \n",
    "    \"\"\"\n",
    "    Return the weighted average and standard deviation.\n",
    "\n",
    "    values, weights -- Numpy masked ndarrays with the same shape.\n",
    "    \"\"\"\n",
    "\n",
    "    \n",
    "    weight = 1.0 / (sigma ** 2.0)\n",
    "    average, sow = np.ma.average(values, weights = weight, axis = axis, returned = True)\n",
    "    #variance = 1.0 / np.ma.sum(weight , axis = axis )\n",
    "    variance = 1.0 / sow\n",
    "    return ((average * norm).data, (np.sqrt(variance)*norm).data ) \n",
    "    \n",
    "    \n",
    "    #var = sigma**(-2.0)\n",
    "    #weighted_average = np.ma.sum( values * var , axis = axis) / np.ma.sum( var , axis = axis)\n",
    "    #weighted_average_variance = 1.0 / np.ma.sum(var, axis = axis)\n",
    "    #corrected_weighted_average_variance = weighted_average_variance * \\\n",
    "    #                                      ((1.0 / (np.ma.sum(array_mask, axis=axis) - 1.0))) * \\\n",
    "    #                                     np.ma.sum(((values - weighted_average)**2)/ sigma**2, axis = axis)\n",
    "    #return (weighted_average.data, np.sqrt(corrected_weighted_average_variance.data)) \n",
    " \n",
    "\n"
   ]
  },
  {
   "cell_type": "code",
   "execution_count": 6,
   "metadata": {
    "collapsed": false
   },
   "outputs": [
    {
     "name": "stdout",
     "output_type": "stream",
     "text": [
      "[  0. -13.]\n"
     ]
    }
   ],
   "source": [
    "\n",
    "cumoffy = []\n",
    "\n",
    "\n",
    "if arm == 'VIS' or arm == 'UVB' or (arm == 'NIR' and nirmode == 'Stare'):\n",
    "    for i, n in enumerate(nam):\n",
    "        offsety = int(heads[n]['HIERARCH ESO SEQ CUMOFF Y'] / heads[n]['CD2_2'])\n",
    "        #Correct for drifting pointing (This will change depending on your observations)\n",
    "        if i >= 2:\n",
    "            offsety -= int(2.92 / heads[n]['CD2_2'])\n",
    "        cumoffy.append(offsety)\n",
    "elif arm == 'NIR' and nirmode == 'Nod':\n",
    "    for i, n in enumerate(nam):\n",
    "        offsety = 0.0\n",
    "        if i >= 1:\n",
    "            offsety -= int(2.92 / heads[n]['CD2_2'])\n",
    "        cumoffy.append(offsety)\n",
    "cumoffy = np.array(cumoffy) \n",
    "\n",
    "print cumoffy\n",
    "\n",
    "\n"
   ]
  },
  {
   "cell_type": "code",
   "execution_count": 19,
   "metadata": {
    "collapsed": false
   },
   "outputs": [
    {
     "name": "stdout",
     "output_type": "stream",
     "text": [
      "Combining to file: SN_RefsdalNIR.fits\n"
     ]
    }
   ],
   "source": [
    "#TODO\n",
    "# Right now WCS information is wrong. \n",
    "#\n",
    "\n",
    "def combine_spectra(nam, fluxs, errs, bpmaps, cumoffy, outfile ='your_combined_data.fits'):\n",
    "\n",
    "    flux = []\n",
    "    sigma = []\n",
    "    qual = []\n",
    "\n",
    "    \n",
    "\n",
    "    for i, n in enumerate(nam):\n",
    "        \n",
    "                \n",
    "        \n",
    "        #Defining size of out-array\n",
    "        v_size = shps[n][0] + (abs(max(cumoffy)) - min(cumoffy))\n",
    "        h_size = shps[n][1]\n",
    "\n",
    "        #Masking 1 pixel edges in individual frames.\n",
    "        edge_mask = (ys[n] > max(ys[n]) -1) | (ys[n] < min(ys[n]) + 1)\n",
    "        full_mask = np.tile(edge_mask , (len(xs[n]), 1)).T\n",
    "        \n",
    "        #Defining positional offset between the frames.\n",
    "        pos_v, pos_h = cumoffy[i], 0  # offset\n",
    "        \n",
    "        #b1 is full-size container with all values masked and b2 is input image with edge-mask + bad pixel mask.\n",
    "        b1 = np.ma.array(np.zeros((v_size, h_size)), mask = True)\n",
    "        b2 = np.ma.array(fluxs[n], mask = full_mask)\n",
    "        \n",
    "        #Finding the indices of the container in which to put image.\n",
    "        offv = (abs(max(cumoffy)) - abs(min(cumoffy)))  - min(cumoffy)   - pos_v      \n",
    "        v_range1 = slice( v_size - shps[n][0] - offv  ,    v_size - offv  )\n",
    "        offh = 0 - pos_h      \n",
    "        h_range1 = slice( h_size - shps[n][1] - offh  ,    h_size - offh  )\n",
    "        \n",
    "        # Insert smaller (b3, input image) frame into larger frame (container)\n",
    "        b1[v_range1, h_range1] = b2\n",
    "        \n",
    "        #Append to list containing flux images\n",
    "        flux.append(b1)\n",
    "        \n",
    "        #Repeat for error extension\n",
    "        b3 = np.ma.array(np.zeros((v_size, h_size)), mask = True)\n",
    "        b4 = np.ma.array(errs[n], mask = full_mask)\n",
    "        b3[v_range1, h_range1] = b4\n",
    "        sigma.append(b3)\n",
    "        \n",
    "        #Repeat for bad pixel map \n",
    "        b5 = np.ma.array(np.zeros((v_size, h_size)), mask = True)\n",
    "        b6 = np.ma.array(bpmaps[n], mask = full_mask)\n",
    "        b5[v_range1, h_range1] = b6\n",
    "        qual.append(b5)  \n",
    "        \n",
    "\n",
    "    print 'Combining to file: '+outfile+''\n",
    "\n",
    "    for i, n in enumerate(flux):\n",
    "        #Combine edge-mask and bad pixel mask\n",
    "        mask = (qual[i] != 0) | ((flux[i].mask) & (sigma[i].mask) & (qual[i].mask))\n",
    "        \n",
    "        #Construct masked arrays\n",
    "        flux[i] = np.ma.array(flux[i], mask=mask)\n",
    "        sigma[i] = np.ma.array(sigma[i], mask=mask)\n",
    "        qual[i] = np.ma.array(qual[i], mask=mask)\n",
    "    \n",
    "    \n",
    "    #Find the file number belonging to the image with smallest cumoffy (the one that starts at  (0, 0))\n",
    "    wrf = str(np.argmin(cumoffy) + 1)\n",
    "    #Calculate weighted average and variance\n",
    "    obs[wrf][0].data, obs[wrf][1].data = weighted_avg_and_std(flux, sigma, axis=0)\n",
    "    \n",
    "    #Sum over bad pixels (should be 0 everywhere)\n",
    "    obs[wrf][2].data = np.ma.sum(qual, axis=0).data\n",
    " \n",
    "    obs[wrf].writeto(outfile, clobber =True)\n",
    "    \n",
    "    return obs[wrf]\n",
    "\n",
    "\n",
    "comb = combine_spectra(nam, skysubs, errs, bpmaps, cumoffy, outfile ='SN_Refsdal'+arm+'.fits')\n"
   ]
  },
  {
   "cell_type": "code",
   "execution_count": null,
   "metadata": {
    "collapsed": false
   },
   "outputs": [],
   "source": []
  },
  {
   "cell_type": "code",
   "execution_count": 9,
   "metadata": {
    "collapsed": false
   },
   "outputs": [
    {
     "data": {
      "text/plain": [
       "<matplotlib.colorbar.Colorbar instance at 0x10e5ccd88>"
      ]
     },
     "execution_count": 9,
     "metadata": {},
     "output_type": "execute_result"
    },
    {
     "data": {
      "image/png": "[encoded data removed]",
      "text/plain": [
       "<matplotlib.figure.Figure at 0x1171dc410>"
      ]
     },
     "metadata": {},
     "output_type": "display_data"
    }
   ],
   "source": [
    "fig, ax = plt.subplots(figsize = (16, 3))\n",
    "#plt.imshow(comb[1].data[:, 10500:10700], vmin=-10, vmax=10, cmap='YlOrBr', origin='lower')\n",
    "plt.imshow(comb[1].data[:, 19500:19900], vmin=-10e-19, vmax=10e-19, cmap='YlOrBr')\n",
    "plt.colorbar()   "
   ]
  },
  {
   "cell_type": "code",
   "execution_count": 10,
   "metadata": {
    "collapsed": false
   },
   "outputs": [
    {
     "data": {
      "text/plain": [
       "(-1e-18, 1e-18)"
      ]
     },
     "execution_count": 10,
     "metadata": {},
     "output_type": "execute_result"
    },
    {
     "data": {
      "image/png": "[encoded data removed]",
      "text/plain": [
       "<matplotlib.figure.Figure at 0x1171dcb90>"
      ]
     },
     "metadata": {},
     "output_type": "display_data"
    }
   ],
   "source": [
    "spec, err = weighted_avg_and_std(comb[0].data[28:31, :],  comb[1].data[28:31, :],  axis = 0)\n",
    "fig, ax = plt.subplots(figsize = (16, 3))\n",
    "wave = 10.*(np.arange(comb[0].header['NAXIS1'])*comb[0].header['CDELT1']+comb[0].header['CRVAL1'])\n",
    "\n",
    "plt.plot(wave, spec, drawstyle='steps-mid')\n",
    "plt.errorbar(wave, spec, yerr=err, fmt='o', marker='o', capsize=5.5, ms=2, mew=0.5, color='black', elinewidth=0.5)\n",
    "plt.ylim((-1e-18, 1e-18))\n",
    "#plt.xlim((10000, 20000))"
   ]
  },
  {
   "cell_type": "code",
   "execution_count": 20,
   "metadata": {
    "collapsed": false
   },
   "outputs": [
    {
     "name": "stdout",
     "output_type": "stream",
     "text": [
      "Binning...\n",
      "Done. Writing to SN_RefsdalNIRbinned50.fits\n"
     ]
    }
   ],
   "source": [
    "def bin_image(img,binx,biny):\n",
    "    import numpy as np\n",
    "    from gen_methods import wmean\n",
    "    \n",
    "    \n",
    "    mask = np.zeros(np.shape(img[0].data)).astype(bool)\n",
    "    mask[:,10640:10680] = np.ones(np.shape(img[0].data[:, 10640:10680])).astype(bool)\n",
    "    mask[:,4190:4210] = np.ones(np.shape(img[0].data[:, 4190:4210])).astype(bool)\n",
    "    \n",
    "\n",
    "    img[0].data = np.ma.array(img[0].data, mask = mask)\n",
    "    #return\n",
    "    \n",
    "    \"\"\"\n",
    "    Used to bin low S/N 2D data from xshooter.\n",
    "    Calculates the weigted averages of the bins, using the weighted average.\n",
    "    Returns binned 2dimage\n",
    "    \"\"\"\n",
    "\n",
    "    if binx == 1 and biny == 1:\n",
    "        return img\n",
    "    \n",
    "    #Outsize\n",
    "    s=np.shape(img[0].data)\n",
    "    outsizex=s[0]/binx\n",
    "    outsizey=s[1]/biny\n",
    "\n",
    "    #Containers\n",
    "    res = np.zeros((outsizex,outsizey))\n",
    "    reserr = np.zeros((outsizex,outsizey))\n",
    "    bpmap = np.zeros((outsizex,outsizey))\n",
    "\n",
    "    for i in np.arange(0,s[0]-(binx+1),binx):\n",
    "         for j in np.arange(0,s[1]-(biny+1),biny):\n",
    "            #We sigma-clip 5-sigma outliers along the binning direction.\n",
    "            flux_clip = sigma_clip(img[0].data[i:i+binx,j:j+biny], sig = 5,  axis=1, iters=None, copy = True, \\\n",
    "                                   cenfunc=np.ma.median, varfunc=np.ma.var)\n",
    "            #Construct weighted average and weighted std\n",
    "            res[((i+binx)/binx-1),((j+biny)/biny-1)], reserr[((i+binx)/binx-1),((j+biny)/biny-1)] = \\\n",
    "                        weighted_avg_and_std(flux_clip, img[1].data[i:i+binx,j:j+biny], axis = 1)\n",
    "            #Sum bad pixel bad (should be only zeroes by now)\n",
    "            bpmap[((i+binx)/binx-1),((j+biny)/biny-1)] = np.ma.sum(img[2].data[i:i+binx,j:j+biny], axis = 1)\n",
    "\n",
    "    #Update header information\n",
    "    img[0].header['NAXIS'] = 2\n",
    "    img[0].header['NAXIS1'] = outsizey\n",
    "    img[0].header['NAXIS2'] = outsizex\n",
    "    img[0].header['CDELT1'] = img[0].header['CDELT1']*biny \n",
    "    img[0].header['CDELT2'] = img[0].header['CDELT2']*binx \n",
    "    img[0].header['CD2_2'] = img[0].header['CD2_2']*binx\n",
    "    img[0].header['CD1_1'] = img[0].header['CD1_1']*biny \n",
    "    img[0].data = res\n",
    "    img[1].data = reserr\n",
    "    img[2].data = bpmap  \n",
    "\n",
    "    \n",
    "    return img\n",
    "\n",
    "\n",
    "print('Binning...')\n",
    "#binning = str(100)\n",
    "#comb = fits.open('/Users/jselsing/Work/X-Shooter/Frontier-Fields/SN_Refsdal/NOD_quick/reflex_end_products/2015-05-21T16:06:42/XSHOO.2015-05-16T00:52:35.694_tpl/Refsdal_S1S2_1_SCI_SLIT_MERGE2D_NIR.fits')    \n",
    "#comb = fits.open('/Users/jselsing/Work/X-Shooter/Frontier-Fields/SN_Refsdal/NOD_quick/reflex_end_products/2015-05-21T16:06:42/XSHOO.2015-05-16T00:09:16.846_tpl/Refsdal_S1S2_1_SCI_SLIT_MERGE2D_NIR.fits')    \n",
    "\n",
    "\n",
    "comb_bin = bin_image(comb, 1, int(binning))\n",
    "name = 'SN_Refsdal'+arm+'binned'+binning+'.fits'\n",
    "comb_bin.writeto(name, clobber=True)\n",
    "print('Done. Writing to '+name)"
   ]
  },
  {
   "cell_type": "markdown",
   "metadata": {
    "collapsed": false,
    "scrolled": true
   },
   "source": [
    "#In this seciton we will investigate the 1D spectrum\n",
    "\n",
    "Awesome stuff going on."
   ]
  },
  {
   "cell_type": "code",
   "execution_count": 33,
   "metadata": {
    "collapsed": false
   },
   "outputs": [
    {
     "name": "stdout",
     "output_type": "stream",
     "text": [
      "(51, 54)\n",
      "(60, 63)\n"
     ]
    },
    {
     "data": {
      "image/png": "[encoded data removed]",
      "text/plain": [
       "<matplotlib.figure.Figure at 0x1103c50d0>"
      ]
     },
     "metadata": {},
     "output_type": "display_data"
    }
   ],
   "source": [
    "\n",
    "comb_bin = fits.open('SN_RefsdalNIRbinned50.fits')\n",
    "#comb_bin = fits.open('SN_RefsdalNIRbinned50NOD1.fits')\n",
    "#resp = fits.open('/Users/jselsing/github/SN_Refsdal_Reduction/M.XSHOOTER.2014-04-15T14:16:03.860.fits')\n",
    "#resp = resp[1].data.field('RESPONSE')\n",
    "wave = 10.*(np.arange(comb_bin[0].header['NAXIS1'])*comb_bin[0].header['CDELT1']+comb_bin[0].header['CRVAL1'])\n",
    "\n",
    "\n",
    "\n",
    "\n",
    "#middle1 = 38.2\n",
    "middle1 = 53.4\n",
    "dist = 1.5\n",
    "lower1 = int(middle1 - dist)\n",
    "upper1 = int(middle1 + dist)\n",
    "print(lower1, upper1)\n",
    "\n",
    "#middle2 = 48.8\n",
    "middle2 = 61.9\n",
    "lower2 = int(middle2 - dist)\n",
    "upper2 = int(middle2 + dist)\n",
    "print(lower2, upper2)\n",
    "\n",
    "\n",
    "sn_pos1 = comb_bin[0].data[lower1:upper1, :]\n",
    "sn_pos2 = comb_bin[0].data[lower2:upper2, :]\n",
    "\n",
    "sn_pos1_err = comb_bin[1].data[lower1:upper1, :]\n",
    "sn_pos2_err = comb_bin[1].data[lower2:upper2, :]\n",
    "\n",
    "combined_sn_pos = np.vstack((sn_pos1, sn_pos2))\n",
    "combined_sn_pos_err = np.vstack((sn_pos1_err, sn_pos2_err)) \n",
    "\n",
    "spec, err = weighted_avg_and_std(combined_sn_pos, combined_sn_pos_err,  axis = 0)\n",
    "\n",
    "\n",
    "#lower3 = 23\n",
    "#upper3 = 29\n",
    "\n",
    "lower3 = 30\n",
    "upper3 = 40\n",
    "\n",
    "spec_host, err_host = weighted_avg_and_std(comb_bin[0].data[lower3:upper3, :], comb_bin[1].data[lower3:upper3, :],  axis = 0)\n",
    "\n",
    "\n",
    "\n",
    "#msk = (wave > 16000) & (wave < 16500)\n",
    "\n",
    "spec -= spec_host\n",
    "err = np.sqrt(err**2 + (err_host)**2)\n",
    "\n",
    "fig, ax = plt.subplots(figsize = (16, 5))\n",
    "\n",
    "\n",
    "#flux = spec_host\n",
    "#err = err_host\n",
    "\n",
    "\n",
    "plt.plot(wave, spec, drawstyle='steps-mid', lw = 0.5)\n",
    "plt.errorbar(wave, spec, yerr=err, fmt='o', marker='o', capsize=2.5, ms=1, mew=0.5, color='black', elinewidth=0.3)\n",
    "plt.axvspan(13200, 15100, facecolor='grey', alpha=0.3)\n",
    "plt.axvspan(18000, 21000, facecolor='grey', alpha=0.3)\n",
    "\n",
    "plt.ylim((-2e-19, 6e-19))\n",
    "#plt.ylim((-3, 10))\n",
    "plt.xlim((10000, 20000))\n",
    "#plt.xlim((15500, 17000))\n",
    "ax.set_xlabel(r'Wavelength [$\\AA$]')\n",
    "ax.set_ylabel(r'Flux [erg s$^{-1}$ cm$^{-1}$ $\\AA^{-1}$]')\n",
    "#plt.tight_layout()\n",
    "#plt.savefig('SN_posHa.pdf')\n",
    "plt.savefig('SN_pos_hostsub.pdf', dpi = 2400)"
   ]
  },
  {
   "cell_type": "code",
   "execution_count": null,
   "metadata": {
    "collapsed": false
   },
   "outputs": [],
   "source": []
  },
  {
   "cell_type": "code",
   "execution_count": null,
   "metadata": {
    "collapsed": true
   },
   "outputs": [],
   "source": []
  },
  {
   "cell_type": "code",
   "execution_count": null,
   "metadata": {
    "collapsed": true
   },
   "outputs": [],
   "source": []
  },
  {
   "cell_type": "code",
   "execution_count": null,
   "metadata": {
    "collapsed": true
   },
   "outputs": [],
   "source": []
  },
  {
   "cell_type": "code",
   "execution_count": null,
   "metadata": {
    "collapsed": false
   },
   "outputs": [],
   "source": []
  },
  {
   "cell_type": "code",
   "execution_count": null,
   "metadata": {
    "collapsed": false
   },
   "outputs": [],
   "source": []
  },
  {
   "cell_type": "code",
   "execution_count": null,
   "metadata": {
    "collapsed": true
   },
   "outputs": [],
   "source": []
  },
  {
   "cell_type": "code",
   "execution_count": null,
   "metadata": {
    "collapsed": true
   },
   "outputs": [],
   "source": []
  }
 ],
 "metadata": {
  "kernelspec": {
   "display_name": "Python 2",
   "language": "python",
   "name": "python2"
  },
  "language_info": {
   "codemirror_mode": {
    "name": "ipython",
    "version": 2
   },
   "file_extension": ".py",
   "mimetype": "text/x-python",
   "name": "python",
   "nbconvert_exporter": "python",
   "pygments_lexer": "ipython2",
   "version": "2.7.9"
  }
 },
 "nbformat": 4,
 "nbformat_minor": 0
}
